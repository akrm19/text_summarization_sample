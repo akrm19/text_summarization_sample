{
 "cells": [
  {
   "cell_type": "code",
   "execution_count": 58,
   "metadata": {},
   "outputs": [
    {
     "data": {
      "text/plain": [
       "True"
      ]
     },
     "execution_count": 58,
     "metadata": {},
     "output_type": "execute_result"
    }
   ],
   "source": [
    "# Set env var OPENAI_API_KEY or load from a .env file\n",
    "import dotenv\n",
    "\n",
    "dotenv.load_dotenv()"
   ]
  },
  {
   "cell_type": "code",
   "execution_count": 59,
   "metadata": {},
   "outputs": [
    {
     "name": "stdout",
     "output_type": "stream",
     "text": [
      "false\n"
     ]
    }
   ],
   "source": [
    "import os\n",
    "\n",
    "os.environ[\"LANGSMITH_TRACING\"] = \"false\"\n",
    "\n",
    "my_test = os.getenv(\"LANGSMITH_TRACING\")\n",
    "print(my_test)"
   ]
  },
  {
   "cell_type": "code",
   "execution_count": 60,
   "metadata": {},
   "outputs": [
    {
     "name": "stdout",
     "output_type": "stream",
     "text": [
      "[Document(metadata={'source': 'https://langchain-ai.github.io/langgraph/troubleshooting/errors/', 'title': 'Troubleshooting', 'description': 'Build language agents as graphs', 'language': 'en'}, page_content='\\n\\n\\n\\n\\n\\n\\n\\n\\n\\n\\n\\nTroubleshooting\\n\\n\\n\\n\\n\\n\\n\\n\\n\\n\\n\\n\\n\\n\\n\\n\\n\\n          Skip to content\\n        \\n\\n\\n\\n\\n\\n\\n\\nJoin us at  Interrupt: The Agent AI Conference by LangChain on May 13 & 14 in San Francisco!\\n\\n\\n\\n\\n\\n\\n\\n\\n\\n\\n\\n\\n\\n\\n\\n\\n\\n\\n\\n\\n\\n            \\n              Troubleshooting\\n            \\n          \\n\\n\\n\\n\\n\\n\\n\\n\\n\\n\\n\\n\\n\\n\\n\\n\\n\\n\\n\\n\\n\\n\\n\\n\\n\\n\\n\\n\\n\\n\\n\\n\\n\\n\\n\\n\\n\\n\\n\\n\\n            Initializing search\\n          \\n\\n\\n\\n\\n\\n\\n\\n\\n\\n\\n\\n\\n    GitHub\\n  \\n\\n\\n\\n\\n\\n\\n\\n\\n\\n\\n          \\n  \\n    \\n  \\n  Home\\n\\n        \\n\\n\\n\\n          \\n  \\n    \\n  \\n  API reference\\n\\n        \\n\\n\\n\\n\\n\\n\\n\\n\\n\\n\\n\\n\\n\\n\\n\\n\\n\\n\\n\\n\\n\\n\\n    GitHub\\n  \\n\\n\\n\\n\\n\\n\\n\\n\\n    \\n  \\n    Home\\n  \\n\\n    \\n  \\n\\n\\n\\n\\n\\n\\n\\n\\n            \\n  \\n    Home\\n  \\n\\n          \\n\\n\\n\\n\\n\\n    \\n  \\n    Get started\\n  \\n\\n    \\n  \\n\\n\\n\\n\\n\\n            \\n  \\n    Get started\\n  \\n\\n          \\n\\n\\n\\n\\n    \\n  \\n    Learn the basics\\n  \\n\\n    \\n  \\n\\n\\n\\n\\n\\n    \\n  \\n    Deployment\\n  \\n\\n    \\n  \\n\\n\\n\\n\\n\\n\\n\\n\\n\\n\\n    \\n  \\n    Guides\\n  \\n\\n    \\n  \\n\\n\\n\\n\\n\\n            \\n  \\n    Guides\\n  \\n\\n          \\n\\n\\n\\n\\n    \\n  \\n    How-to Guides\\n  \\n\\n    \\n  \\n\\n\\n\\n\\n\\n\\n    \\n  \\n    Concepts\\n  \\n\\n    \\n  \\n\\n\\n\\n\\n\\n\\n    \\n  \\n    Tutorials\\n  \\n\\n    \\n  \\n\\n\\n\\n\\n\\n\\n\\n\\n\\n\\n    \\n  \\n    Resources\\n  \\n\\n    \\n  \\n\\n\\n\\n\\n\\n            \\n  \\n    Resources\\n  \\n\\n          \\n\\n\\n\\n\\n    \\n  \\n    Prebuilt Agents\\n  \\n\\n    \\n  \\n\\n\\n\\n\\n\\n    \\n  \\n    Adopters\\n  \\n\\n    \\n  \\n\\n\\n\\n\\n\\n    \\n  \\n    FAQ\\n  \\n\\n    \\n  \\n\\n\\n\\n\\n\\n\\n\\n    \\n  \\n    Troubleshooting\\n  \\n\\n    \\n  \\n\\n\\n\\n\\n\\n\\n\\n\\n            \\n  \\n    Troubleshooting\\n  \\n\\n          \\n\\n\\n\\n\\n    \\n  \\n    GRAPH_RECURSION_LIMIT\\n  \\n\\n    \\n  \\n\\n\\n\\n\\n\\n    \\n  \\n    INVALID_CONCURRENT_GRAPH_UPDATE\\n  \\n\\n    \\n  \\n\\n\\n\\n\\n\\n    \\n  \\n    INVALID_GRAPH_NODE_RETURN_VALUE\\n  \\n\\n    \\n  \\n\\n\\n\\n\\n\\n    \\n  \\n    MULTIPLE_SUBGRAPHS\\n  \\n\\n    \\n  \\n\\n\\n\\n\\n\\n    \\n  \\n    INVALID_CHAT_HISTORY\\n  \\n\\n    \\n  \\n\\n\\n\\n\\n\\n    \\n  \\n    INVALID_LICENSE\\n  \\n\\n    \\n  \\n\\n\\n\\n\\n\\n\\n\\n\\n    \\n  \\n    LangGraph Academy Course\\n  \\n\\n    \\n  \\n\\n\\n\\n\\n\\n\\n\\n\\n\\n\\n\\n    \\n  \\n    API reference\\n  \\n\\n    \\n  \\n\\n\\n\\n\\n\\n\\n\\n\\n\\n\\n\\n\\n\\n\\n      Table of contents\\n    \\n\\n\\n\\n\\n      \\n        LangGraph Platform\\n      \\n    \\n\\n\\n\\n\\n\\n\\n\\n\\n\\n\\n\\n\\n\\n    Home\\n  \\n\\n\\n\\n\\n\\n    Resources\\n  \\n\\n\\n\\n\\n\\n    Troubleshooting\\n  \\n\\n\\n\\n\\n\\n\\n\\n\\n\\n\\nError reference¶\\nThis page contains guides around resolving common errors you may find while building with LangGraph.\\nErrors referenced below will have an lc_error_code property corresponding to one of the below codes when they are thrown in code.\\n\\nGRAPH_RECURSION_LIMIT\\nINVALID_CONCURRENT_GRAPH_UPDATE\\nINVALID_GRAPH_NODE_RETURN_VALUE\\nMULTIPLE_SUBGRAPHS\\nINVALID_CHAT_HISTORY\\n\\nLangGraph Platform¶\\nThese guides provide troubleshooting information for errors that are specific to the LangGraph Platform.\\n\\nINVALID_LICENSE\\n\\nComments\\n\\n\\n\\n\\n\\n\\n\\n\\n\\n\\n  Back to top\\n\\n\\n\\n\\n\\n\\n\\n\\n\\n\\n                Previous\\n              \\n\\n                Troubleshooting\\n              \\n\\n\\n\\n\\n\\n                Next\\n              \\n\\n                GRAPH_RECURSION_LIMIT\\n              \\n\\n\\n\\n\\n\\n\\n\\n\\n\\n  \\n  \\n    Made with\\n    \\n      Material for MkDocs Insiders\\n    \\n\\n\\n\\n\\n\\n\\n\\n\\n\\n\\n\\n\\n\\n\\n\\n\\n\\n\\n\\n\\n\\n\\n\\n\\n')]\n"
     ]
    }
   ],
   "source": [
    "from langchain_community.document_loaders import WebBaseLoader\n",
    "\n",
    "doc_url = \"https://langchain-ai.github.io/langgraph/troubleshooting/errors/\" #\"https://python.langchain.com/docs/contributing/\" #\"https://lilianweng.github.io/posts/2023-06-23-agent/\"\n",
    "loader = WebBaseLoader(doc_url)\n",
    "docs = loader.load()\n",
    "\n",
    "print(docs)"
   ]
  },
  {
   "cell_type": "code",
   "execution_count": 64,
   "metadata": {},
   "outputs": [],
   "source": [
    "from langchain_ollama import ChatOllama\n",
    "\n",
    "#llm = ChatOllama(model=\"llama3.2\", temperature=0)\n",
    "llm = ChatOllama(model=\"phi4\", temperature=0)"
   ]
  },
  {
   "cell_type": "markdown",
   "metadata": {},
   "source": [
    "## Summarize in a single LLM call"
   ]
  },
  {
   "cell_type": "code",
   "execution_count": 65,
   "metadata": {},
   "outputs": [
    {
     "name": "stdout",
     "output_type": "stream",
     "text": [
      "The document provides a guide on troubleshooting common errors encountered while using the LangGraph platform. It includes links to various sections such as \"Home,\" \"API reference,\" and specific error guides like \"GRAPH_RECURSION_LIMIT\" and \"INVALID_LICENSE.\" The page is part of GitHub's content, offering resources for resolving issues related to LangGraph development. Each error has a corresponding `lc_error_code` for identification. Additionally, there are references to other sections such as \"Prebuilt Agents,\" \"Adopters,\" and \"FAQ.\" The document also mentions an upcoming event, the Agent AI Conference by LangChain in San Francisco.\n"
     ]
    }
   ],
   "source": [
    "from langchain.chains.combine_documents import create_stuff_documents_chain\n",
    "from langchain.chains.llm import  LLMChain\n",
    "from langchain_core.prompts import ChatPromptTemplate\n",
    "\n",
    "# Define prompt\n",
    "prompt = ChatPromptTemplate.from_messages(\n",
    "    [(\"system\", \"Write a concise summary of the following:\\\\n\\\\n{context}\")]\n",
    ")\n",
    "\n",
    "# Instantiate chain\n",
    "chain = create_stuff_documents_chain(llm, prompt)\n",
    "\n",
    "# Invoke chain\n",
    "result = chain.invoke({\"context\": docs})\n",
    "print(result)"
   ]
  },
  {
   "cell_type": "code",
   "execution_count": 63,
   "metadata": {},
   "outputs": [
    {
     "name": "stdout",
     "output_type": "stream",
     "text": [
      "|"
     ]
    }
   ],
   "source": [
    "for token in chain.stream({\"context\": docs}):\n",
    "    print(token, end=\"|\")"
   ]
  },
  {
   "cell_type": "markdown",
   "metadata": {},
   "source": [
    "## Map-Reduce"
   ]
  },
  {
   "cell_type": "code",
   "execution_count": 66,
   "metadata": {},
   "outputs": [],
   "source": [
    "from langchain_core.prompts import ChatPromptTemplate\n",
    "\n",
    "map_prompt = ChatPromptTemplate.from_messages(\n",
    "    [(\"system\", \"Write a concise summary of the following:\\\\n\\\\n{context}\")]\n",
    ")"
   ]
  },
  {
   "cell_type": "code",
   "execution_count": null,
   "metadata": {},
   "outputs": [],
   "source": [
    "#from langchain import hub\n",
    "\n",
    "#We can also use the Prompt Hub to store and fetch prompts.\n",
    "#This will work with your LangSmith API key.\n",
    "# see prompt here: \n",
    "\n",
    "#map_prompt = hub.pull(\"rlm/map-prompt\")"
   ]
  },
  {
   "cell_type": "code",
   "execution_count": 67,
   "metadata": {},
   "outputs": [],
   "source": [
    "# Also available via the hub: `hub.pull(\"rlm/reduce-prompt\")`\n",
    "reduce_template = \"\"\"\n",
    "The following is a set of summaries:\n",
    "{docs}\n",
    "Take these and distill it into a final, consolidated summary\n",
    "of the main themes.\n",
    "\"\"\"\n",
    "\n",
    "reduce_prompt = ChatPromptTemplate([(\"human\", reduce_template)])"
   ]
  },
  {
   "cell_type": "code",
   "execution_count": 68,
   "metadata": {},
   "outputs": [
    {
     "name": "stdout",
     "output_type": "stream",
     "text": [
      "generated 3 documents\n"
     ]
    }
   ],
   "source": [
    "from langchain_text_splitters import CharacterTextSplitter\n",
    "\n",
    "text_splitter = CharacterTextSplitter.from_tiktoken_encoder(chunk_size=500, chunk_overlap=0)\n",
    "\n",
    "split_docs = text_splitter.split_documents(docs)\n",
    "print(f\"generated {len(split_docs)} documents\")"
   ]
  },
  {
   "cell_type": "code",
   "execution_count": 69,
   "metadata": {},
   "outputs": [
    {
     "name": "stdout",
     "output_type": "stream",
     "text": [
      "The content appears to be a navigation guide for a website, likely related to GitHub or a similar platform. It includes sections such as \"Troubleshooting,\" \"API reference,\" and various guides like \"Get started\" and \"How-to Guides.\" Additionally, there is an invitation to attend the \"Interrupt: The Agent AI Conference by LangChain\" in San Francisco on May 13 & 14. The navigation structure suggests a focus on learning resources, deployment information, and foundational concepts for users.\n"
     ]
    }
   ],
   "source": [
    "# Invoke chain\n",
    "result = chain.invoke({\"context\": [split_docs[0]]})\n",
    "print(result)"
   ]
  },
  {
   "cell_type": "code",
   "execution_count": 57,
   "metadata": {},
   "outputs": [
    {
     "name": "stdout",
     "output_type": "stream",
     "text": [
      "The| document| provides| a| guide| on| troubleshooting| common| errors| encountered| while| using| the| Lang|Graph| platform|.| It| is| part| of| a| broader| resource| available| at| the| \"|Lang|Graph| Platform|\"| site|,| which| includes| sections| like| Home|,| Resources|,| and| Trou|b|leshooting|.\n",
      "\n",
      "|Key| points| include|:\n",
      "\n",
      "|-| **|Error| Reference|**:| The| page| lists| common| errors| with| specific| error| codes| such| as| `|GRAPH|_RE|CUR|SION|_LIMIT|`,| `|INVALID|_CON|CURRENT|_GRAPH|_UPDATE|`,| `|INVALID|_GRAPH|_NODE|_RETURN|_VALUE|`,| `|MULT|IPLE|_SUB|GR|AP|HS|`,| `|INVALID|_CHAT|_HISTORY|`,| and| `|INVALID|_LICENSE|`.\n",
      "\n",
      "|-| **|Trou|b|leshooting| Guides|**:| These| guides| help| resolve| issues| related| to| the| Lang|Graph| platform|,| particularly| focusing| on| errors| specific| to| it|.\n",
      "\n",
      "|-| **|Navigation|**:| The| document| includes| navigation| options| to| move| between| different| troubleshooting| topics| or| return| to| previous| sections|.\n",
      "\n",
      "|The| content| is| part| of| a| larger| framework| aimed| at| assisting| users| in| resolving| technical| challenges| while| working| with| Lang|Graph|.||"
     ]
    }
   ],
   "source": [
    "for token in chain.stream({\"context\": split_docs}):\n",
    "    print(token, end=\"|\")"
   ]
  }
 ],
 "metadata": {
  "kernelspec": {
   "display_name": "text_summarization_sample",
   "language": "python",
   "name": "python3"
  },
  "language_info": {
   "codemirror_mode": {
    "name": "ipython",
    "version": 3
   },
   "file_extension": ".py",
   "mimetype": "text/x-python",
   "name": "python",
   "nbconvert_exporter": "python",
   "pygments_lexer": "ipython3",
   "version": "3.12.0"
  }
 },
 "nbformat": 4,
 "nbformat_minor": 2
}
